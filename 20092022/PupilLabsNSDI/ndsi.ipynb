{
 "cells": [
  {
   "cell_type": "markdown",
   "metadata": {},
   "source": [
    "First you need to use the NDSI lib from pupil labs in order to have 0MQ message protocol"
   ]
  },
  {
   "cell_type": "code",
   "execution_count": 2,
   "metadata": {},
   "outputs": [
    {
     "ename": "ImportError",
     "evalue": "DLL load failed while importing frame: The specified module could not be found.",
     "output_type": "error",
     "traceback": [
      "\u001b[1;31m---------------------------------------------------------------------------\u001b[0m",
      "\u001b[1;31mImportError\u001b[0m                               Traceback (most recent call last)",
      "Cell \u001b[1;32mIn [2], line 2\u001b[0m\n\u001b[0;32m      1\u001b[0m \u001b[39mimport\u001b[39;00m \u001b[39mcv2\u001b[39;00m\n\u001b[1;32m----> 2\u001b[0m \u001b[39mimport\u001b[39;00m \u001b[39mndsi\u001b[39;00m\n\u001b[0;32m      4\u001b[0m SENSOR_TYPES \u001b[39m=\u001b[39m [\u001b[39m\"\u001b[39m\u001b[39mvideo\u001b[39m\u001b[39m\"\u001b[39m, \u001b[39m\"\u001b[39m\u001b[39mgaze\u001b[39m\u001b[39m\"\u001b[39m]\n\u001b[0;32m      5\u001b[0m SENSORS \u001b[39m=\u001b[39m {}  \u001b[39m# Will store connected sensors\u001b[39;00m\n",
      "File \u001b[1;32mg:\\anaconda3\\envs\\ecities\\lib\\site-packages\\ndsi\\__init__.py:58\u001b[0m\n\u001b[0;32m     54\u001b[0m         \u001b[39msuper\u001b[39m()\u001b[39m.\u001b[39m\u001b[39m__init__\u001b[39m(message)\n\u001b[0;32m     55\u001b[0m         \u001b[39mself\u001b[39m\u001b[39m.\u001b[39mmessage \u001b[39m=\u001b[39m message\n\u001b[1;32m---> 58\u001b[0m \u001b[39mfrom\u001b[39;00m \u001b[39mndsi\u001b[39;00m\u001b[39m.\u001b[39;00m\u001b[39mformatter\u001b[39;00m \u001b[39mimport\u001b[39;00m DataFormat\n\u001b[0;32m     60\u001b[0m __version__ \u001b[39m=\u001b[39m \u001b[39m\"\u001b[39m\u001b[39m1.4.4\u001b[39m\u001b[39m\"\u001b[39m\n\u001b[0;32m     61\u001b[0m __protocol_version__ \u001b[39m=\u001b[39m \u001b[39mstr\u001b[39m(DataFormat\u001b[39m.\u001b[39mlatest()\u001b[39m.\u001b[39mversion_major)\n",
      "File \u001b[1;32mg:\\anaconda3\\envs\\ecities\\lib\\site-packages\\ndsi\\formatter.py:11\u001b[0m\n\u001b[0;32m      8\u001b[0m \u001b[39mimport\u001b[39;00m \u001b[39mnumpy\u001b[39;00m \u001b[39mas\u001b[39;00m \u001b[39mnp\u001b[39;00m\n\u001b[0;32m     10\u001b[0m \u001b[39mfrom\u001b[39;00m \u001b[39mndsi\u001b[39;00m \u001b[39mimport\u001b[39;00m StreamError\n\u001b[1;32m---> 11\u001b[0m \u001b[39mfrom\u001b[39;00m \u001b[39mndsi\u001b[39;00m\u001b[39m.\u001b[39;00m\u001b[39mframe\u001b[39;00m \u001b[39mimport\u001b[39;00m (\n\u001b[0;32m     12\u001b[0m     VIDEO_FRAME_FORMAT_H264,\n\u001b[0;32m     13\u001b[0m     VIDEO_FRAME_FORMAT_MJPEG,\n\u001b[0;32m     14\u001b[0m     FrameFactory,\n\u001b[0;32m     15\u001b[0m     H264Frame,\n\u001b[0;32m     16\u001b[0m     JPEGFrame,\n\u001b[0;32m     17\u001b[0m )\n\u001b[0;32m     19\u001b[0m __all__ \u001b[39m=\u001b[39m [\n\u001b[0;32m     20\u001b[0m     \u001b[39m\"\u001b[39m\u001b[39mDataFormat\u001b[39m\u001b[39m\"\u001b[39m,\n\u001b[0;32m     21\u001b[0m     \u001b[39m\"\u001b[39m\u001b[39mDataFormatter\u001b[39m\u001b[39m\"\u001b[39m,\n\u001b[1;32m   (...)\u001b[0m\n\u001b[0;32m     30\u001b[0m     \u001b[39m\"\u001b[39m\u001b[39mIMUValue\u001b[39m\u001b[39m\"\u001b[39m,\n\u001b[0;32m     31\u001b[0m ]\n\u001b[0;32m     34\u001b[0m NANO \u001b[39m=\u001b[39m \u001b[39m1e-9\u001b[39m\n",
      "\u001b[1;31mImportError\u001b[0m: DLL load failed while importing frame: The specified module could not be found."
     ]
    }
   ],
   "source": [
    "import cv2\n",
    "import ndsi\n",
    "\n",
    "SENSOR_TYPES = [\"video\", \"gaze\"]\n",
    "SENSORS = {}  # Will store connected sensors\n",
    "\n",
    "def on_network_event(network, event):\n",
    "    # Handle gaze sensor attachment\n",
    "    if event[\"subject\"] == \"attach\" and event[\"sensor_type\"] in SENSOR_TYPES:\n",
    "        # Create new sensor, start data streaming,\n",
    "        # and request current configuration\n",
    "        sensor = network.sensor(event[\"sensor_uuid\"])\n",
    "        sensor.set_control_value(\"streaming\", True)\n",
    "        sensor.refresh_controls()\n",
    "\n",
    "        # Save sensor s.t. we can fetch data from it in main()\n",
    "        SENSORS[event[\"sensor_uuid\"]] = sensor\n",
    "        print(f\"Added sensor {sensor}...\")\n",
    "\n",
    "    # Handle gaze sensor detachment\n",
    "    if event[\"subject\"] == \"detach\" and event[\"sensor_uuid\"] in SENSORS:\n",
    "        # Known sensor has disconnected, remove from list\n",
    "        SENSORS[event[\"sensor_uuid\"]].unlink()\n",
    "        del SENSORS[event[\"sensor_uuid\"]]\n",
    "        print(f\"Removed sensor {event['sensor_uuid']}...\")"
   ]
  },
  {
   "cell_type": "code",
   "execution_count": null,
   "metadata": {},
   "outputs": [],
   "source": [
    "import ndsi\n"
   ]
  },
  {
   "cell_type": "markdown",
   "metadata": {},
   "source": []
  }
 ],
 "metadata": {
  "kernelspec": {
   "display_name": "Python 3.9.7 ('ecities')",
   "language": "python",
   "name": "python3"
  },
  "language_info": {
   "codemirror_mode": {
    "name": "ipython",
    "version": 3
   },
   "file_extension": ".py",
   "mimetype": "text/x-python",
   "name": "python",
   "nbconvert_exporter": "python",
   "pygments_lexer": "ipython3",
   "version": "3.9.7"
  },
  "orig_nbformat": 4,
  "vscode": {
   "interpreter": {
    "hash": "8b0471490a44da933f2661bd9d56169caea2915fead1217be42f0b65d8ae4ead"
   }
  }
 },
 "nbformat": 4,
 "nbformat_minor": 2
}
