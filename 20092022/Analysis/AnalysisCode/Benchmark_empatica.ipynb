{
 "cells": [
  {
   "cell_type": "code",
   "execution_count": 1,
   "metadata": {},
   "outputs": [],
   "source": [
    "import os\n",
    "import numpy as np\n",
    "import pandas as pd\n",
    "import matplotlib.pyplot as plt\n",
    "import utils\n",
    "from utils.streams import populate_streams\n",
    "\n",
    "#%matplotlib inline\n",
    "%matplotlib qt\n",
    "\n",
    "plt.style.use('ggplot')\n"
   ]
  },
  {
   "cell_type": "code",
   "execution_count": 2,
   "metadata": {},
   "outputs": [],
   "source": [
    "stream_root_folder = r\"C:\\Users\\neurogears\\Desktop\\EC_datasets\\EmpaticaLDRBenchmark2022_09_26_18_06_45\"\n",
    "\n"
   ]
  },
  {
   "cell_type": "code",
   "execution_count": 3,
   "metadata": {},
   "outputs": [],
   "source": [
    "#Load necessary streams for the test\n",
    "\n",
    "streams = populate_streams(root = stream_root_folder, autoload=False)#make sure autoload is set to \"False\"\n",
    "streams.Empatica.load()\n",
    "streams.BioData.ECG.load()\n"
   ]
  },
  {
   "cell_type": "code",
   "execution_count": 4,
   "metadata": {},
   "outputs": [],
   "source": [
    "#Manually construct a new stream\n",
    "from utils.streams import HarpStream\n",
    "streams.BioData.Photodiode = HarpStream(-1, device = 'BioData', streamlabel = 'Photodiode', root = '', autoload = False)\n",
    "streams.BioData.Photodiode.data = streams.BioData.ECG.data.loc[:,\"Value1\"]\n"
   ]
  },
  {
   "cell_type": "code",
   "execution_count": 5,
   "metadata": {},
   "outputs": [
    {
     "data": {
      "text/html": [
       "<div>\n",
       "<style scoped>\n",
       "    .dataframe tbody tr th:only-of-type {\n",
       "        vertical-align: middle;\n",
       "    }\n",
       "\n",
       "    .dataframe tbody tr th {\n",
       "        vertical-align: top;\n",
       "    }\n",
       "\n",
       "    .dataframe thead th {\n",
       "        text-align: right;\n",
       "    }\n",
       "</style>\n",
       "<table border=\"1\" class=\"dataframe\">\n",
       "  <thead>\n",
       "    <tr style=\"text-align: right;\">\n",
       "      <th></th>\n",
       "      <th>Stream</th>\n",
       "      <th>E4_Seconds</th>\n",
       "      <th>Value</th>\n",
       "    </tr>\n",
       "    <tr>\n",
       "      <th>Seconds</th>\n",
       "      <th></th>\n",
       "      <th></th>\n",
       "      <th></th>\n",
       "    </tr>\n",
       "  </thead>\n",
       "  <tbody>\n",
       "    <tr>\n",
       "      <th>1904-01-01 01:43:20.285984</th>\n",
       "      <td>E4_Tag</td>\n",
       "      <td>1956-09-25 17:06:54.166069984</td>\n",
       "      <td>1.251647e+09</td>\n",
       "    </tr>\n",
       "    <tr>\n",
       "      <th>1904-01-01 01:43:32.390976</th>\n",
       "      <td>E4_Tag</td>\n",
       "      <td>1956-09-25 17:07:06.197880030</td>\n",
       "      <td>1.252044e+09</td>\n",
       "    </tr>\n",
       "    <tr>\n",
       "      <th>1904-01-01 01:43:47.285984</th>\n",
       "      <td>E4_Tag</td>\n",
       "      <td>1956-09-25 17:07:21.151700020</td>\n",
       "      <td>1.252533e+09</td>\n",
       "    </tr>\n",
       "    <tr>\n",
       "      <th>1904-01-01 01:43:53.293984</th>\n",
       "      <td>E4_Tag</td>\n",
       "      <td>1956-09-25 17:07:27.167599916</td>\n",
       "      <td>1.252731e+09</td>\n",
       "    </tr>\n",
       "    <tr>\n",
       "      <th>1904-01-01 01:44:04.252000</th>\n",
       "      <td>E4_Tag</td>\n",
       "      <td>1956-09-25 17:07:37.996229887</td>\n",
       "      <td>1.253089e+09</td>\n",
       "    </tr>\n",
       "    <tr>\n",
       "      <th>...</th>\n",
       "      <td>...</td>\n",
       "      <td>...</td>\n",
       "      <td>...</td>\n",
       "    </tr>\n",
       "    <tr>\n",
       "      <th>1904-01-01 02:00:01.344992</th>\n",
       "      <td>E4_Tag</td>\n",
       "      <td>1956-09-25 17:23:35.212430000</td>\n",
       "      <td>1.269026e+09</td>\n",
       "    </tr>\n",
       "    <tr>\n",
       "      <th>1904-01-01 02:00:07.261984</th>\n",
       "      <td>E4_Tag</td>\n",
       "      <td>1956-09-25 17:23:41.228339911</td>\n",
       "      <td>1.269075e+09</td>\n",
       "    </tr>\n",
       "    <tr>\n",
       "      <th>1904-01-01 02:00:12.370976</th>\n",
       "      <td>E4_Tag</td>\n",
       "      <td>1956-09-25 17:23:46.384829998</td>\n",
       "      <td>1.269117e+09</td>\n",
       "    </tr>\n",
       "    <tr>\n",
       "      <th>1904-01-01 02:00:26.364992</th>\n",
       "      <td>E4_Tag</td>\n",
       "      <td>1956-09-25 17:24:00.307349920</td>\n",
       "      <td>1.269231e+09</td>\n",
       "    </tr>\n",
       "    <tr>\n",
       "      <th>1904-01-01 02:00:34.420000</th>\n",
       "      <td>E4_Tag</td>\n",
       "      <td>1956-09-25 17:24:08.385839939</td>\n",
       "      <td>1.269297e+09</td>\n",
       "    </tr>\n",
       "  </tbody>\n",
       "</table>\n",
       "<p>99 rows × 3 columns</p>\n",
       "</div>"
      ],
      "text/plain": [
       "                            Stream                    E4_Seconds         Value\n",
       "Seconds                                                                       \n",
       "1904-01-01 01:43:20.285984  E4_Tag 1956-09-25 17:06:54.166069984  1.251647e+09\n",
       "1904-01-01 01:43:32.390976  E4_Tag 1956-09-25 17:07:06.197880030  1.252044e+09\n",
       "1904-01-01 01:43:47.285984  E4_Tag 1956-09-25 17:07:21.151700020  1.252533e+09\n",
       "1904-01-01 01:43:53.293984  E4_Tag 1956-09-25 17:07:27.167599916  1.252731e+09\n",
       "1904-01-01 01:44:04.252000  E4_Tag 1956-09-25 17:07:37.996229887  1.253089e+09\n",
       "...                            ...                           ...           ...\n",
       "1904-01-01 02:00:01.344992  E4_Tag 1956-09-25 17:23:35.212430000  1.269026e+09\n",
       "1904-01-01 02:00:07.261984  E4_Tag 1956-09-25 17:23:41.228339911  1.269075e+09\n",
       "1904-01-01 02:00:12.370976  E4_Tag 1956-09-25 17:23:46.384829998  1.269117e+09\n",
       "1904-01-01 02:00:26.364992  E4_Tag 1956-09-25 17:24:00.307349920  1.269231e+09\n",
       "1904-01-01 02:00:34.420000  E4_Tag 1956-09-25 17:24:08.385839939  1.269297e+09\n",
       "\n",
       "[99 rows x 3 columns]"
      ]
     },
     "execution_count": 5,
     "metadata": {},
     "output_type": "execute_result"
    }
   ],
   "source": [
    "streams.Empatica.data.E4_Tag\n"
   ]
  },
  {
   "cell_type": "code",
   "execution_count": 6,
   "metadata": {},
   "outputs": [],
   "source": [
    "rolling_max = streams.BioData.Photodiode.data.rolling('1s').max() #get rid of double hits due to hysteresis using a max-window filter.\n",
    "\n",
    "thr = 70\n",
    "ttl = (rolling_max > thr).astype(int)\n",
    "pd_rising_edge = ttl[np.where(np.diff(ttl) == 1)[0]]\n",
    "\n",
    "fig = plt.figure(figsize= (15,6))\n",
    "plt.title(streams.BioData.Photodiode.device + \".\" + streams.BioData.Photodiode.streamlabel)\n",
    "plt.plot(streams.BioData.Photodiode.data/1000, label = 'RawSignal')\n",
    "plt.plot(ttl, label = 'ThresholdedSignal')\n",
    "plt.scatter(x = pd_rising_edge.index, y = pd_rising_edge.values*0 + 0.5, color = \"darkgreen\", label = 'risingEdge')\n",
    "plt.plot(rolling_max/1000, label = 'Filtered signal')\n",
    "plt.ylabel('Voltage (adc units)')\n",
    "plt.xlabel('Time')\n",
    "plt.scatter(streams.Empatica.data.E4_Tag.index,  np.ones((len(streams.Empatica.data.E4_Tag.index),1)) * 0.6, label = \"EmpaticaTags\")\n",
    "\n",
    "plt.legend(loc='upper center', bbox_to_anchor=(0.5, 0.95),\n",
    "          ncol=3, fancybox=True, shadow=True)\n",
    "\n",
    "\n",
    "plt.xlim((pd_rising_edge.index[82], pd_rising_edge.index[88]))\n",
    "plt.show()\n",
    "\n",
    "#Confirm no double hits were detected:\n",
    "plt.figure()\n",
    "plt.hist(np.diff(pd_rising_edge.index.values)/ np.timedelta64(1, 's'), np.linspace(0, 10, 20))\n",
    "plt.xlabel('$\\Delta t_{OnSet}$')\n",
    "plt.ylabel('Counts')\n",
    "plt.title('Refractory period violations')\n",
    "plt.show()\n"
   ]
  },
  {
   "cell_type": "code",
   "execution_count": 7,
   "metadata": {},
   "outputs": [],
   "source": [
    "delta_t = pd_rising_edge.index.values - streams.Empatica.data.E4_Tag.index.values\n",
    "delta_t = -delta_t / np.timedelta64(1, 'ms')\n",
    "delta_t = delta_t[delta_t > 0]\n",
    "\n",
    "plt.figure(figsize= (9,6))\n",
    "plt.hist(delta_t, bins = 50, color= \"Teal\")\n",
    "plt.xlabel('Latency (ms)')\n",
    "plt.ylabel('Counts')\n",
    "plt.xlim((0,200))\n",
    "plt.title(f'Empatica latency benchmark\\n$\\mu = {np.mean(delta_t):.2f}, \\sigma = {np.std(delta_t):.2f},$ [min:max] = [{np.min(delta_t):.2f}:{np.max(delta_t):.2f}]')\n",
    "plt.show()"
   ]
  },
  {
   "cell_type": "code",
   "execution_count": 67,
   "metadata": {},
   "outputs": [
    {
     "data": {
      "text/plain": [
       "(array([83, 87], dtype=int64),)"
      ]
     },
     "execution_count": 67,
     "metadata": {},
     "output_type": "execute_result"
    }
   ],
   "source": [
    "np.where(delta_t < 0)"
   ]
  },
  {
   "cell_type": "code",
   "execution_count": null,
   "metadata": {},
   "outputs": [],
   "source": []
  }
 ],
 "metadata": {
  "kernelspec": {
   "display_name": "Python 3.9.7 ('base')",
   "language": "python",
   "name": "python3"
  },
  "language_info": {
   "codemirror_mode": {
    "name": "ipython",
    "version": 3
   },
   "file_extension": ".py",
   "mimetype": "text/x-python",
   "name": "python",
   "nbconvert_exporter": "python",
   "pygments_lexer": "ipython3",
   "version": "3.9.7"
  },
  "orig_nbformat": 4,
  "vscode": {
   "interpreter": {
    "hash": "09bd21bb92291494554824029e1a9dff7dc56aa6d478169471a2232705d1a524"
   }
  }
 },
 "nbformat": 4,
 "nbformat_minor": 2
}
