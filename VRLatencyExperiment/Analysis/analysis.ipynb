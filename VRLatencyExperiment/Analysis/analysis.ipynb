{
 "cells": [
  {
   "cell_type": "code",
   "execution_count": 1,
   "outputs": [],
   "source": [
    "### Imports\n",
    "import numpy as np\n",
    "import pandas as pd\n",
    "import matplotlib.pyplot as plt"
   ],
   "metadata": {
    "collapsed": false,
    "pycharm": {
     "name": "#%%\n"
    }
   }
  },
  {
   "cell_type": "code",
   "execution_count": 2,
   "outputs": [
    {
     "name": "stdout",
     "output_type": "stream",
     "text": [
      "      TimeDiffs\n",
      "0      0.000000\n",
      "1      0.069984\n",
      "2      0.060000\n",
      "3      0.060000\n",
      "4      0.070016\n",
      "...         ...\n",
      "3857   0.050016\n",
      "3858   0.049984\n",
      "3859   0.050016\n",
      "3860   0.049984\n",
      "3861   0.050016\n",
      "\n",
      "[3862 rows x 1 columns]\n",
      "0.05340238218539611\n"
     ]
    },
    {
     "data": {
      "text/plain": "(array([1.000e+00, 0.000e+00, 0.000e+00, 0.000e+00, 0.000e+00, 0.000e+00,\n        0.000e+00, 1.000e+00, 0.000e+00, 1.330e+03, 1.330e+03, 1.093e+03,\n        0.000e+00, 5.300e+01, 5.100e+01, 1.000e+00, 0.000e+00, 0.000e+00,\n        0.000e+00, 0.000e+00, 0.000e+00, 0.000e+00, 1.000e+00, 0.000e+00,\n        0.000e+00, 0.000e+00, 0.000e+00, 0.000e+00, 0.000e+00, 1.000e+00]),\n array([0.        , 0.00500053, 0.01000107, 0.0150016 , 0.02000213,\n        0.02500267, 0.0300032 , 0.03500373, 0.04000427, 0.0450048 ,\n        0.05000533, 0.05500587, 0.0600064 , 0.06500693, 0.07000747,\n        0.075008  , 0.08000853, 0.08500907, 0.0900096 , 0.09501013,\n        0.10001067, 0.1050112 , 0.11001173, 0.11501227, 0.1200128 ,\n        0.12501333, 0.13001387, 0.1350144 , 0.14001493, 0.14501547,\n        0.150016  ]),\n <BarContainer object of 30 artists>)"
     },
     "execution_count": 2,
     "metadata": {},
     "output_type": "execute_result"
    },
    {
     "data": {
      "text/plain": "<Figure size 432x288 with 1 Axes>",
      "image/png": "[encoded data removed]"
     },
     "metadata": {
      "needs_background": "light"
     },
     "output_type": "display_data"
    }
   ],
   "source": [
    "### Load roundtrip datasets and plot\n",
    "rt_time = pd.read_csv('Data230227/round-trip-timestamps-diffs.csv')\n",
    "print(rt_time)\n",
    "\n",
    "print(np.mean(rt_time[\"TimeDiffs\"]))\n",
    "plt.hist(rt_time[\"TimeDiffs\"], bins=30)"
   ],
   "metadata": {
    "collapsed": false,
    "pycharm": {
     "name": "#%%\n"
    }
   }
  },
  {
   "cell_type": "code",
   "execution_count": 3,
   "outputs": [
    {
     "name": "stdout",
     "output_type": "stream",
     "text": [
      "         Seconds   Value\n",
      "0   25947.462976  switch\n",
      "1   25948.354976  switch\n",
      "2   25950.540000  switch\n",
      "3   25951.372000  switch\n",
      "4   25953.280992  switch\n",
      "5   25954.532000  switch\n",
      "6   25955.704992  switch\n",
      "7   25957.470976  switch\n",
      "8   25960.224000  switch\n",
      "9   25962.924000  switch\n",
      "10  25963.724000  switch\n",
      "11  25965.201984  switch\n",
      "12  25966.876992  switch\n",
      "13  25969.812000  switch\n",
      "14  25970.522976  switch\n",
      "15  25972.185984  switch\n",
      "16  25973.494976  switch\n",
      "17  25976.252992  switch\n",
      "18  25978.945984  switch\n",
      "19  25979.745984  switch\n",
      "20  25982.104000  switch\n",
      "21  25984.656000  switch\n",
      "22  25985.669984  switch\n",
      "23  25988.532992  switch\n",
      "24  25991.048000  switch\n",
      "25  25993.808000  switch\n",
      "26  25996.516000  switch\n",
      "27  25998.928000  switch\n",
      "28  26000.560992  switch\n",
      "29  26002.334976  switch\n",
      "30  26003.010976  switch\n",
      "31  26006.012000  switch\n",
      "32  26008.314976  switch\n",
      "33  26011.002976  switch\n",
      "34  26012.988000  switch\n",
      "35  26013.752992  switch\n",
      "36  26016.568000  switch\n",
      "37  26019.228992  switch\n",
      "38  26021.678976  switch\n",
      "39  26022.874976  switch\n",
      "40  26023.754976  switch\n",
      "41  26025.944992  switch\n",
      "42  26026.760992  switch\n",
      "43  26028.252000  switch\n",
      "44  26029.050976  switch\n",
      "45  26030.524992  switch\n",
      "46  26033.386976  switch\n",
      "47  26034.710976  switch\n",
      "48  26036.589984  switch\n",
      "49  26039.597984  switch\n",
      "50  26041.025984  switch\n",
      "51  26042.720992  switch\n",
      "52  26045.197984  switch\n",
      "53  26046.805984  switch\n",
      "54  26048.156992  switch\n",
      "55  26049.144000  switch\n",
      "56  26051.576992  switch\n",
      "57  26054.528992  switch          Seconds  Value\n",
      "0   25944.624992   True\n",
      "1   25947.534976  False\n",
      "2   25948.424992   True\n",
      "3   25950.594976  False\n",
      "4   25951.434976   True\n",
      "5   25953.344992  False\n",
      "6   25954.584992   True\n",
      "7   25955.764992  False\n",
      "8   25957.534976   True\n",
      "9   25960.274976  False\n",
      "10  25962.974976   True\n",
      "11  25963.774976  False\n",
      "12  25965.254976   True\n",
      "13  25966.934976  False\n",
      "14  25969.864992   True\n",
      "15  25970.574976  False\n",
      "16  25972.244992   True\n",
      "17  25973.554976  False\n",
      "18  25976.304992   True\n",
      "19  25978.994976  False\n",
      "20  25979.794976   True\n",
      "21  25982.154976  False\n",
      "22  25984.704992   True\n",
      "23  25985.724992  False\n",
      "24  25988.584992   True\n",
      "25  25991.094976  False\n",
      "26  25993.864992   True\n",
      "27  25996.574976  False\n",
      "28  25998.984992   True\n",
      "29  26000.624992  False\n",
      "30  26002.384992   True\n",
      "31  26003.064992  False\n",
      "32  26006.064992   True\n",
      "33  26008.374976  False\n",
      "34  26011.054976   True\n",
      "35  26013.044992  False\n",
      "36  26013.804992   True\n",
      "37  26016.624992  False\n",
      "38  26019.284992   True\n",
      "39  26021.734976  False\n",
      "40  26022.934976   True\n",
      "41  26023.804992  False\n",
      "42  26025.994976   True\n",
      "43  26026.804992  False\n",
      "44  26028.304992   True\n",
      "45  26029.104992  False\n",
      "46  26030.574976   True\n",
      "47  26033.444992  False\n",
      "48  26034.764992   True\n",
      "49  26036.644992  False\n",
      "50  26039.654976   True\n",
      "51  26041.074976  False\n",
      "52  26042.774976   True\n",
      "53  26045.254976  False\n",
      "54  26046.864992   True\n",
      "55  26048.204992  False\n",
      "56  26049.194976   True\n",
      "57  26051.634976  False\n",
      "58  26054.584992   True\n"
     ]
    },
    {
     "data": {
      "text/plain": "(array([ 1.,  6., 14., 12., 11.,  8.,  1.,  3.,  0.,  2.]),\n array([0.044 , 0.0468, 0.0496, 0.0524, 0.0552, 0.058 , 0.0608, 0.0636,\n        0.0664, 0.0692, 0.072 ]),\n <BarContainer object of 10 artists>)"
     },
     "execution_count": 3,
     "metadata": {},
     "output_type": "execute_result"
    },
    {
     "data": {
      "text/plain": "<Figure size 432x288 with 1 Axes>",
      "image/png": "[encoded data removed]"
     },
     "metadata": {
      "needs_background": "light"
     },
     "output_type": "display_data"
    }
   ],
   "source": [
    "### Load latency datasets and plot\n",
    "st_bonsai = pd.read_csv('Data230227/switch-times-3.csv')\n",
    "st_unity = pd.read_csv('Data230227/switch-times-unity-3.csv')\n",
    "\n",
    "print(st_bonsai, st_unity)\n",
    "\n",
    "bonsai_times = np.array(st_bonsai[\"Seconds\"])\n",
    "unity_times = np.array(st_unity[\"Seconds\"][1:])\n",
    "\n",
    "diffs = unity_times - bonsai_times\n",
    "plt.hist(diffs)"
   ],
   "metadata": {
    "collapsed": false,
    "pycharm": {
     "name": "#%%\n"
    }
   }
  },
  {
   "cell_type": "code",
   "execution_count": null,
   "outputs": [],
   "source": [],
   "metadata": {
    "collapsed": false,
    "pycharm": {
     "name": "#%%\n"
    }
   }
  }
 ],
 "metadata": {
  "kernelspec": {
   "display_name": "Python 3",
   "language": "python",
   "name": "python3"
  },
  "language_info": {
   "codemirror_mode": {
    "name": "ipython",
    "version": 2
   },
   "file_extension": ".py",
   "mimetype": "text/x-python",
   "name": "python",
   "nbconvert_exporter": "python",
   "pygments_lexer": "ipython2",
   "version": "2.7.6"
  }
 },
 "nbformat": 4,
 "nbformat_minor": 0
}