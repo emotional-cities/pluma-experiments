{
 "cells": [
  {
   "cell_type": "code",
   "execution_count": 1,
   "metadata": {},
   "outputs": [],
   "source": [
    "import os\n",
    "import numpy as np\n",
    "import pandas as pd\n",
    "import matplotlib.pyplot as plt\n",
    "import utils\n",
    "from utils.streams import Dataset\n",
    "\n",
    "%matplotlib inline\n",
    "#%matplotlib qt\n",
    "\n",
    "plt.style.use('ggplot')\n"
   ]
  },
  {
   "cell_type": "code",
   "execution_count": 2,
   "metadata": {},
   "outputs": [],
   "source": [
    "stream_root_folder = r\"C:\\Users\\neurogears\\Desktop\\EC_datasets\\SoundCardTKbenchmark2022_09_27_15_16_36\"\n",
    "dataset = Dataset(stream_root_folder)\n",
    "dataset.populate_streams(autoload = False)"
   ]
  },
  {
   "cell_type": "code",
   "execution_count": 49,
   "metadata": {},
   "outputs": [],
   "source": [
    "#Load necessary streams for the test\n",
    "dataset.streamsMicrophone.Audio.load()\n",
    "dataset.streamsMicrophone.Audio.data = dataset.streamsMicrophone.Audio.data[:,1]\n",
    "dataset.streamsMicrophone.BufferIndex.load()\n",
    "\n",
    "dataset.streamsBioData.Set.load()\n"
   ]
  },
  {
   "cell_type": "code",
   "execution_count": 50,
   "metadata": {},
   "outputs": [
    {
     "name": "stdout",
     "output_type": "stream",
     "text": [
      "441.0\n"
     ]
    }
   ],
   "source": [
    "#must grab the bufferindex timestamp\n",
    "fs = 44100\n",
    "buffer_duration = 10e-3 #in seconds\n",
    "buffer_length = np.ceil(buffer_duration * fs)\n",
    "print(buffer_length)"
   ]
  },
  {
   "cell_type": "code",
   "execution_count": 51,
   "metadata": {},
   "outputs": [
    {
     "data": {
      "text/html": [
       "<div>\n",
       "<style scoped>\n",
       "    .dataframe tbody tr th:only-of-type {\n",
       "        vertical-align: middle;\n",
       "    }\n",
       "\n",
       "    .dataframe tbody tr th {\n",
       "        vertical-align: top;\n",
       "    }\n",
       "\n",
       "    .dataframe thead th {\n",
       "        text-align: right;\n",
       "    }\n",
       "</style>\n",
       "<table border=\"1\" class=\"dataframe\">\n",
       "  <thead>\n",
       "    <tr style=\"text-align: right;\">\n",
       "      <th></th>\n",
       "      <th>Value</th>\n",
       "    </tr>\n",
       "    <tr>\n",
       "      <th>Seconds</th>\n",
       "      <th></th>\n",
       "    </tr>\n",
       "  </thead>\n",
       "  <tbody>\n",
       "    <tr>\n",
       "      <th>1904-01-01 22:53:04.956000</th>\n",
       "      <td>0</td>\n",
       "    </tr>\n",
       "    <tr>\n",
       "      <th>1904-01-01 22:53:04.957984</th>\n",
       "      <td>1</td>\n",
       "    </tr>\n",
       "    <tr>\n",
       "      <th>1904-01-01 22:53:04.968000</th>\n",
       "      <td>2</td>\n",
       "    </tr>\n",
       "    <tr>\n",
       "      <th>1904-01-01 22:53:04.982976</th>\n",
       "      <td>3</td>\n",
       "    </tr>\n",
       "    <tr>\n",
       "      <th>1904-01-01 22:53:04.997984</th>\n",
       "      <td>4</td>\n",
       "    </tr>\n",
       "    <tr>\n",
       "      <th>...</th>\n",
       "      <td>...</td>\n",
       "    </tr>\n",
       "    <tr>\n",
       "      <th>1904-01-01 23:07:24.126976</th>\n",
       "      <td>85911</td>\n",
       "    </tr>\n",
       "    <tr>\n",
       "      <th>1904-01-01 23:07:24.126976</th>\n",
       "      <td>85912</td>\n",
       "    </tr>\n",
       "    <tr>\n",
       "      <th>1904-01-01 23:07:24.141984</th>\n",
       "      <td>85913</td>\n",
       "    </tr>\n",
       "    <tr>\n",
       "      <th>1904-01-01 23:07:24.156992</th>\n",
       "      <td>85914</td>\n",
       "    </tr>\n",
       "    <tr>\n",
       "      <th>1904-01-01 23:07:24.156992</th>\n",
       "      <td>85915</td>\n",
       "    </tr>\n",
       "  </tbody>\n",
       "</table>\n",
       "<p>85916 rows × 1 columns</p>\n",
       "</div>"
      ],
      "text/plain": [
       "                            Value\n",
       "Seconds                          \n",
       "1904-01-01 22:53:04.956000      0\n",
       "1904-01-01 22:53:04.957984      1\n",
       "1904-01-01 22:53:04.968000      2\n",
       "1904-01-01 22:53:04.982976      3\n",
       "1904-01-01 22:53:04.997984      4\n",
       "...                           ...\n",
       "1904-01-01 23:07:24.126976  85911\n",
       "1904-01-01 23:07:24.126976  85912\n",
       "1904-01-01 23:07:24.141984  85913\n",
       "1904-01-01 23:07:24.156992  85914\n",
       "1904-01-01 23:07:24.156992  85915\n",
       "\n",
       "[85916 rows x 1 columns]"
      ]
     },
     "execution_count": 51,
     "metadata": {},
     "output_type": "execute_result"
    }
   ],
   "source": [
    "dataset.streamsMicrophone.BufferIndex.data"
   ]
  },
  {
   "cell_type": "code",
   "execution_count": 52,
   "metadata": {},
   "outputs": [
    {
     "data": {
      "image/png": "[encoded data removed]",
      "text/plain": [
       "<Figure size 1080x360 with 1 Axes>"
      ]
     },
     "metadata": {},
     "output_type": "display_data"
    }
   ],
   "source": [
    "thr = 200\n",
    "\n",
    "ttl = (dataset.streamsMicrophone.Audio.data > thr).astype(float)\n",
    "ttl = pd.DataFrame(ttl).rolling(10000).max().values #get rid of double hits due to hysteresis using a max-window filter.\n",
    "sample_rising_edge = np.where(np.diff(ttl[:,0]) == 1)[0]\n",
    "\n",
    "plt.figure(figsize=(15,5))\n",
    "plt.plot(ttl)\n",
    "plt.scatter(sample_rising_edge, ttl[sample_rising_edge])\n",
    "plt.xlim((0.1e7, 0.2e7))\n",
    "plt.show()"
   ]
  },
  {
   "cell_type": "code",
   "execution_count": 85,
   "metadata": {},
   "outputs": [],
   "source": [
    "def get_buffer_ts(sample, source, buffer_size = 441):\n",
    "    i = np.floor(sample/buffer_size)\n",
    "    remainder = sample%buffer_size\n",
    "    add_time_sec = pd.Timedelta(remainder/fs, 's')\n",
    "    return source.index[(source == i-1).values[:,0]] + add_time_sec ## subtract one index to correct for the buffer timestamping\n",
    "\n",
    "buffer_ts = np.array([get_buffer_ts(x, dataset.streamsMicrophone.BufferIndex.data) for x in sample_rising_edge])[:,0]"
   ]
  },
  {
   "cell_type": "code",
   "execution_count": 87,
   "metadata": {},
   "outputs": [
    {
     "data": {
      "image/png": "[encoded data removed]",
      "text/plain": [
       "<Figure size 648x432 with 1 Axes>"
      ]
     },
     "metadata": {},
     "output_type": "display_data"
    }
   ],
   "source": [
    "delta_t = - (dataset.streamsBioData.Set.data.index - buffer_ts) / np.timedelta64(1, \"ms\")\n",
    "\n",
    "plt.figure(figsize= (9,6))\n",
    "plt.hist(delta_t, np.linspace(0, 100, 50), color= \"Teal\")\n",
    "plt.xlabel('Latency (ms)')\n",
    "plt.ylabel('Counts')\n",
    "plt.xlim((0,80))\n",
    "plt.title(f'Microphone latency benchmark\\n$\\mu = {np.mean(delta_t):.2f}, \\sigma = {np.std(delta_t):.2f},$ [min:max] = [{np.min(delta_t):.2f}:{np.max(delta_t):.2f}]')\n",
    "plt.show()\n"
   ]
  },
  {
   "cell_type": "code",
   "execution_count": null,
   "metadata": {},
   "outputs": [],
   "source": []
  }
 ],
 "metadata": {
  "kernelspec": {
   "display_name": "Python 3.9.7 ('base')",
   "language": "python",
   "name": "python3"
  },
  "language_info": {
   "codemirror_mode": {
    "name": "ipython",
    "version": 3
   },
   "file_extension": ".py",
   "mimetype": "text/x-python",
   "name": "python",
   "nbconvert_exporter": "python",
   "pygments_lexer": "ipython3",
   "version": "3.9.7"
  },
  "orig_nbformat": 4,
  "vscode": {
   "interpreter": {
    "hash": "09bd21bb92291494554824029e1a9dff7dc56aa6d478169471a2232705d1a524"
   }
  }
 },
 "nbformat": 4,
 "nbformat_minor": 2
}
